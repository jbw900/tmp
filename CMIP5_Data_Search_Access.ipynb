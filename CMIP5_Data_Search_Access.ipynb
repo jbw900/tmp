{
 "cells": [
  {
   "cell_type": "markdown",
   "metadata": {},
   "source": [
    "# Search and Access CMIP5 data from NCI"
   ]
  },
  {
   "cell_type": "markdown",
   "metadata": {},
   "source": [
    "In this notebook, we demonstrate how to use CleF and Xarray to search and access CMIP5 data from NCI. You need to run this notebook in VDI so as to access data through file system. \n",
    "\n",
    "The following material uses Coupled Model Intercomparison Project (CMIP5) collections. The CMIP5 terms of use are found [here](https://cmip.llnl.gov/cmip5/terms.html). For more information on the collection, please click [here](https://geonetwork.nci.org.au/geonetwork/srv/eng/catalog.search#/metadata/f3525_9322_8600_7716)."
   ]
  },
  {
   "cell_type": "markdown",
   "metadata": {},
   "source": [
    "## Set up environment"
   ]
  },
  {
   "cell_type": "code",
   "execution_count": null,
   "metadata": {},
   "outputs": [],
   "source": [
    "!module use /g/data3/hh5/public/modules\n",
    "!module load conda/analysis3-unstable"
   ]
  },
  {
   "cell_type": "markdown",
   "metadata": {},
   "source": [
    "We use Clef to search CMIP5 data path. Clef is available within the analysis3-unstable packages. \n",
    "\n",
    "Clef searches the Earth System Grid Federation datasets stored at the Australian National Computational Infrastructure, both data published on the NCI ESGF node as well as files that are locally replicated from other ESGF nodes.\n",
    "\n",
    "Currently it searches for the following datasets:\n",
    "\n",
    "- CMIP5 raijin projects: rr3, where NCI is the primary publisher and al33 for replicas\n",
    "- CMIP6 raijin projects: 0i10 for replicas\n",
    "\n",
    "For more detailed information about using 'Clef', check out this [website](https://clef.readthedocs.io/en/latest/gettingstarted.html)."
   ]
  },
  {
   "cell_type": "markdown",
   "metadata": {},
   "source": [
    "## Import python packages"
   ]
  },
  {
   "cell_type": "code",
   "execution_count": 2,
   "metadata": {},
   "outputs": [],
   "source": [
    "import xarray as xr\n",
    "%matplotlib inline"
   ]
  },
  {
   "cell_type": "markdown",
   "metadata": {},
   "source": [
    "## Use Clef -cmip5 to serach data"
   ]
  },
  {
   "cell_type": "markdown",
   "metadata": {},
   "source": [
    "First, check out help information to see search options in clef cmip5."
   ]
  },
  {
   "cell_type": "code",
   "execution_count": null,
   "metadata": {},
   "outputs": [],
   "source": [
    "!clef cmip5 --help"
   ]
  },
  {
   "cell_type": "markdown",
   "metadata": {},
   "source": [
    "Then, we will search available temperature and precipitation data by defining all the parameters. See example below:"
   ]
  },
  {
   "cell_type": "code",
   "execution_count": null,
   "metadata": {},
   "outputs": [],
   "source": [
    "!clef cmip5  --experiment rcp26  --ensemble r1i1p1 --table Amon   --variable tas --variable pr"
   ]
  },
  {
   "cell_type": "markdown",
   "metadata": {},
   "source": [
    "We can then set up values for CMIP5 attributions according to the CleF search results.\n",
    "\n",
    "CMIP5 data are organised according to its global attributes. We can access different data by changing attributes in the directory below:\n",
    "**/g/data1b/al33/replicas/CMIP5/product/institute/model/experiment/frequency/realm/table/ensemble/version/variable**\n",
    "\n",
    "There are four Representative Concentration Pathways (RCPs) in CMIP5. These are greenhouse gas concentration (not emissions) trajectory adopted by the IPCC for its fifth Assessment Report (AR5) in 2014. It supersedes the Special Report on Emissions Scenarios (SRES) projections published in 2000. For more information, see [here]( https://sedac.ciesin.columbia.edu/ddc/ar5_scenario_process/RCPs.html).\n",
    " \n",
    "\n",
    "Below, we have set up these attributes in oreder to get the future projection data under the rcp26 senario using member 'r1i1p1' of 'MIROC-ESM' model simulations as an example. "
   ]
  },
  {
   "cell_type": "markdown",
   "metadata": {},
   "source": [
    "<div class=\"alert alert-info\">\n",
    "<b>NOTE: </b>Due to different DRS (Directory Reference Structure) between CMIP5 and CMIP6, search syntax using clef is slightly different between two datasets. They have to be strictly consistent with each DRS tree and they are also case sensitive.   \n",
    "</div>\n",
    "\n",
    "See a wrong request as below: "
   ]
  },
  {
   "cell_type": "code",
   "execution_count": null,
   "metadata": {
    "scrolled": true
   },
   "outputs": [],
   "source": [
    "!clef cmip5  --activity ScenarioMIP  --source_id  CNRM-CM6-1 --table Amon  --variable tas  --variable pr   --grid gr "
   ]
  },
  {
   "cell_type": "markdown",
   "metadata": {},
   "source": [
    "## Show data file names"
   ]
  },
  {
   "cell_type": "code",
   "execution_count": 6,
   "metadata": {},
   "outputs": [
    {
     "name": "stdout",
     "output_type": "stream",
     "text": [
      "tas_Amon_MIROC-ESM_rcp26_r1i1p1_200601-210012.nc\r\n"
     ]
    }
   ],
   "source": [
    "!ls /g/data1b/al33/replicas/CMIP5/combined/MIROC/MIROC-ESM/rcp26/mon/atmos/Amon/r1i1p1/v20120710/tas/"
   ]
  },
  {
   "cell_type": "code",
   "execution_count": 7,
   "metadata": {},
   "outputs": [
    {
     "name": "stdout",
     "output_type": "stream",
     "text": [
      "pr_Amon_MIROC-ESM_rcp26_r1i1p1_200601-210012.nc\r\n"
     ]
    }
   ],
   "source": [
    "!ls /g/data1b/al33/replicas/CMIP5/combined/MIROC/MIROC-ESM/rcp26/mon/atmos/Amon/r1i1p1/v20120710/pr/"
   ]
  },
  {
   "cell_type": "markdown",
   "metadata": {},
   "source": [
    "## Use Xarray to open data"
   ]
  },
  {
   "cell_type": "markdown",
   "metadata": {},
   "source": [
    "#### temperature"
   ]
  },
  {
   "cell_type": "code",
   "execution_count": 8,
   "metadata": {},
   "outputs": [
    {
     "data": {
      "text/plain": [
       "<xarray.DataArray 'tas' (time: 1140, lat: 64, lon: 128)>\n",
       "[9338880 values with dtype=float64]\n",
       "Coordinates:\n",
       "  * time     (time) datetime64[ns] 2006-01-16T12:00:00 2006-02-15 ...\n",
       "  * lat      (lat) float64 -87.86 -85.1 -82.31 -79.53 -76.74 -73.95 -71.16 ...\n",
       "  * lon      (lon) float64 0.0 2.812 5.625 8.438 11.25 14.06 16.88 19.69 ...\n",
       "    height   float64 2.0\n",
       "Attributes:\n",
       "    standard_name:     air_temperature\n",
       "    long_name:         Near-Surface Air Temperature\n",
       "    units:             K\n",
       "    original_name:     T2\n",
       "    cell_methods:      time: mean\n",
       "    cell_measures:     area: areacella\n",
       "    history:           2011-09-13T04:34:56Z altered by CMOR: Treated scalar d...\n",
       "    associated_files:  baseURL: http://cmip-pcmdi.llnl.gov/CMIP5/dataLocation..."
      ]
     },
     "execution_count": 8,
     "metadata": {},
     "output_type": "execute_result"
    }
   ],
   "source": [
    "cmip5Dir='/g/data1b/al33/replicas/CMIP5'\n",
    "product='combined'\n",
    "institute='MIROC'\n",
    "model='MIROC-ESM'\n",
    "experiment='rcp26' \n",
    "frenquency='mon'\n",
    "realm='atmos'\n",
    "table='Amon'\n",
    "ensemble='r1i1p1'\n",
    "version='v20120710'\n",
    "variable='tas'  \n",
    "period='200601-210012'\n",
    "ds=xr.open_dataset(''+cmip5Dir+'/'+product+'/'+institute+'/'+model+'/'+experiment+'/'+frenquency+'/'+realm+'/'+table+'/'+ensemble+'/'+version+'/'+variable+'/'+variable+'_'+table+'_'+model+'_'+experiment+'_'+ensemble+'_'+period+'.nc')\n",
    "tas=ds.tas\n",
    "tas"
   ]
  },
  {
   "cell_type": "markdown",
   "metadata": {},
   "source": [
    "#### precipitation"
   ]
  },
  {
   "cell_type": "code",
   "execution_count": 9,
   "metadata": {},
   "outputs": [
    {
     "data": {
      "text/plain": [
       "<xarray.DataArray 'pr' (time: 1140, lat: 64, lon: 128)>\n",
       "[9338880 values with dtype=float64]\n",
       "Coordinates:\n",
       "  * time     (time) datetime64[ns] 2006-01-16T12:00:00 2006-02-15 ...\n",
       "  * lat      (lat) float64 -87.86 -85.1 -82.31 -79.53 -76.74 -73.95 -71.16 ...\n",
       "  * lon      (lon) float64 0.0 2.812 5.625 8.438 11.25 14.06 16.88 19.69 ...\n",
       "Attributes:\n",
       "    standard_name:     precipitation_flux\n",
       "    long_name:         Precipitation\n",
       "    comment:           at surface; includes both liquid and solid phases from...\n",
       "    units:             kg m-2 s-1\n",
       "    original_name:     PRCP\n",
       "    original_units:    kg/m**2/s\n",
       "    history:           2011-09-13T04:36:18Z altered by CMOR: Converted units ...\n",
       "    cell_methods:      time: mean\n",
       "    cell_measures:     area: areacella\n",
       "    associated_files:  baseURL: http://cmip-pcmdi.llnl.gov/CMIP5/dataLocation..."
      ]
     },
     "execution_count": 9,
     "metadata": {},
     "output_type": "execute_result"
    }
   ],
   "source": [
    "cmip5Dir='/g/data1b/al33/replicas/CMIP5'\n",
    "product='combined'\n",
    "institute='MIROC'\n",
    "model='MIROC-ESM'\n",
    "experiment='rcp26' \n",
    "frenquency='mon'\n",
    "realm='atmos'\n",
    "table='Amon'\n",
    "ensemble='r1i1p1'\n",
    "version='v20120710'\n",
    "variable='pr'  \n",
    "period='200601-210012'\n",
    "ds=xr.open_dataset(''+cmip5Dir+'/'+product+'/'+institute+'/'+model+'/'+experiment+'/'+frenquency+'/'+realm+'/'+table+'/'+ensemble+'/'+version+'/'+variable+'/'+variable+'_'+table+'_'+model+'_'+experiment+'_'+ensemble+'_'+period+'.nc')\n",
    "pr=ds.pr\n",
    "pr"
   ]
  }
 ],
 "metadata": {
  "kernelspec": {
   "display_name": "Python 3",
   "language": "python",
   "name": "python3"
  },
  "language_info": {
   "codemirror_mode": {
    "name": "ipython",
    "version": 3
   },
   "file_extension": ".py",
   "mimetype": "text/x-python",
   "name": "python",
   "nbconvert_exporter": "python",
   "pygments_lexer": "ipython3",
   "version": "3.6.2"
  }
 },
 "nbformat": 4,
 "nbformat_minor": 4
}
